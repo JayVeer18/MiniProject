{
 "cells": [
  {
   "cell_type": "code",
   "execution_count": 1,
   "metadata": {},
   "outputs": [
    {
     "name": "stderr",
     "output_type": "stream",
     "text": [
      "Using TensorFlow backend.\n"
     ]
    },
    {
     "name": "stdout",
     "output_type": "stream",
     "text": [
      "2.3.1\n"
     ]
    }
   ],
   "source": [
    "\n",
    "import warnings\n",
    "warnings.filterwarnings(\"ignore\")\n",
    "from tkinter import *\n",
    "import tkinter.ttk as ttk\n",
    "from PIL import Image,ImageTk\n",
    "import os\n",
    "import glob\n",
    "from tkinter import filedialog\n",
    "import pandas as pd\n",
    "import numpy as np\n",
    "import keras\n",
    "import cv2\n",
    "import csv\n",
    "import tensorflow as tf\n",
    "from tkinter.filedialog import asksaveasfile\n",
    "from keras.preprocessing.image import img_to_array,load_img\n",
    "from tensorflow.python.keras.models import load_model\n",
    "from keras.preprocessing.image import ImageDataGenerator, img_to_array, load_img \n",
    "\n",
    "print(tf.__version__)"
   ]
  },
  {
   "cell_type": "code",
   "execution_count": 2,
   "metadata": {},
   "outputs": [],
   "source": [
    "image_seg=tf.keras.models.load_model(r\"Image_Seg.h5\")"
   ]
  },
  {
   "cell_type": "code",
   "execution_count": 3,
   "metadata": {},
   "outputs": [],
   "source": [
    "df=None\n",
    "def csv():\n",
    "    global path,files,df\n",
    "    inp_images = []\n",
    "    res_images = []\n",
    "    for f1 in files:\n",
    "        inp_images.append(Image.open(path+\"/\"+f1).resize((200,200),Image.ANTIALIAS))\n",
    "        image = test_image(path+\"/\"+f1)\n",
    "        res_images.append(image)\n",
    "    display(inp_images,res_images)"
   ]
  },
  {
   "cell_type": "code",
   "execution_count": 4,
   "metadata": {},
   "outputs": [],
   "source": [
    "def test_image(path):    \n",
    "    image = read_image(path)\n",
    "    image = np.expand_dims(image, axis=0)\n",
    "    res_image=image_seg.predict(image)\n",
    "    #print(res_image.shape)\n",
    "    #print(res_image[:,:,:,1][0].shape)\n",
    "    data = res_image[:,:,:,1][0]\n",
    "    rescaled = (255.0 / data.max() * (data - data.min())).astype(np.uint8)\n",
    "    rescaled = np.repeat(rescaled[:,:,np.newaxis], 3, axis=2)\n",
    "    image = Image.fromarray(rescaled, 'RGB').resize((200,200))\n",
    "    return image"
   ]
  },
  {
   "cell_type": "code",
   "execution_count": 5,
   "metadata": {},
   "outputs": [],
   "source": [
    "path=''\n",
    "files=[]\n",
    "IMG_SIZE=256"
   ]
  },
  {
   "cell_type": "code",
   "execution_count": 6,
   "metadata": {},
   "outputs": [],
   "source": [
    "def res():\n",
    "    global path,cnn,dnn,l5,l6,data\n",
    "    image = test_image(path)\n",
    "    photo = ImageTk.PhotoImage(image)\n",
    "    l5.config(image=photo)\n",
    "    l5.image = photo\n",
    "    l5.grid(row = 2,column = 2, pady = 2)       "
   ]
  },
  {
   "cell_type": "code",
   "execution_count": 7,
   "metadata": {},
   "outputs": [],
   "source": [
    "def sel():\n",
    "    global b1,l1,b2,l2,l4,l5,TableMargin,rb1,rb2,f2\n",
    "    f2.grid(row=1)\n",
    "    b1.grid(row = 0, column = 0,pady = 2)\n",
    "    if v.get() == 1:\n",
    "        rb1.config(bg='magenta')\n",
    "        rb2.config(bg = \"light blue\")\n",
    "        b1.config(text=\"Browse your folder\",command=getDirectory)\n",
    "        forgetlabels(l1,b2,l2,l4,l5)\n",
    "    else:\n",
    "        rb1.config(bg = \"light blue\")\n",
    "        rb2.config(bg='magenta')\n",
    "        b1.config(text=\"Browse your image\",command=getImage)\n",
    "        forgetlabels(l1,b2,l2,l4,l5)\n",
    "def forgetlabels(l1,b2,l2,l4,l5):\n",
    "    l1.grid_remove()\n",
    "    b2.grid_remove()\n",
    "    l2.grid_remove()\n",
    "    l4.grid_remove()\n",
    "    lpic.grid_remove()\n",
    "    l5.grid_remove()\n",
    "    l6.grid_remove()\n",
    "    f3.grid_remove()\n",
    "    f5.destroy()\n",
    "def close():\n",
    "    root.destroy()\n",
    "def read_image(file_path):\n",
    "    image = load_img(file_path, target_size=(256,256)) \n",
    "    image = img_to_array(image) \n",
    "    image /= 255. \n",
    "    return image\n",
    "def getImage():\n",
    "    global l1,l2,l3,l4,b2,lpic,path,f3\n",
    "    f3.grid(row=2)\n",
    "    path = filedialog.askopenfilename(title='Select an Image')\n",
    "    l1.config(text=\"PATH : \"+path)\n",
    "    image = Image.open(path).resize((200,200),Image.ANTIALIAS)\n",
    "    photo = ImageTk.PhotoImage(image)\n",
    "    #print(type(photo))\n",
    "    lpic.config(image=photo)\n",
    "    lpic.image = photo\n",
    "    l1.grid(row = 0, column = 1, pady = 2)\n",
    "    b2.config(command=res)\n",
    "    b2.grid(row = 1, column = 1, pady = 2,sticky='w')\n",
    "    l2.grid(row = 1, column = 0, pady = 2)\n",
    "    #l3.grid(row = 1, column = 1, pady = 2)\n",
    "    l4.grid(row = 1, column = 2, pady = 2)\n",
    "    lpic.grid(row = 2,column = 0, pady = 2)\n",
    "def getDirectory():\n",
    "    global path,files,l1\n",
    "    path = filedialog.askdirectory()\n",
    "    l1.config(text=\"PATH : \"+path)\n",
    "    l1.grid(row = 0, column = 1, pady = 2)\n",
    "    files = os.listdir(path)\n",
    "    path = path.replace(\"\\\\\",\"/\")\n",
    "    b2.config(command=csv)\n",
    "    b2.grid(row = 1, column = 1, pady = 2,sticky='w')"
   ]
  },
  {
   "cell_type": "code",
   "execution_count": 8,
   "metadata": {},
   "outputs": [],
   "source": [
    "def display(images,result): \n",
    "    global f5\n",
    "    f5 = Frame(root)\n",
    "    f5.grid(row=3)\n",
    "    canvas = Canvas(f5,width= 410)\n",
    "    scrollbar = ttk.Scrollbar(f5, orient=\"vertical\", command=canvas.yview)\n",
    "    scrollable_frame = Frame(canvas)\n",
    "    scrollable_frame.bind(\"<Configure>\",lambda e: canvas.configure(scrollregion=canvas.bbox(\"all\")))\n",
    "    canvas.create_window((0, 0), window=scrollable_frame, anchor=\"nw\")\n",
    "    canvas.configure(yscrollcommand=scrollbar.set)\n",
    "    f6 = Frame(f5)\n",
    "    f6.pack(side=\"top\")\n",
    "    Label(f6,text = \"Image\",width=15,fg='white',bg='light blue',font=('arial',16,'bold'),borderwidth=3, relief=\"ridge\").grid(row = 0, column = 0, pady = 2)\n",
    "    Label(f6).grid(row=0,column=1)\n",
    "    Label(f6,text = \"Segmented Image\",width=15,fg='white',bg='light blue',font=('arial',16,'bold'),borderwidth=3, relief=\"ridge\").grid(row = 0, column = 2, pady = 2)\n",
    "    for i in range(len(images)):\n",
    "        photo = ImageTk.PhotoImage(images[i])    \n",
    "        pic = ImageTk.PhotoImage(result[i])\n",
    "        label_name = 'l'+str(i)\n",
    "        label_name = Label(scrollable_frame, image = photo,bg='orange')\n",
    "        label_name.image = photo\n",
    "        label_name.grid(row = i, column = 0, pady = 2)\n",
    "        Label(scrollable_frame).grid(row = i, column = 1, pady = 2)\n",
    "        label_name = 'll'+str(i)\n",
    "        label_name = Label(scrollable_frame, image = pic,bg='orange')\n",
    "        label_name.image = pic\n",
    "        label_name.grid(row = i, column = 2, pady = 2)\n",
    "        #print(i)\n",
    "    canvas.pack(side=\"left\", fill=\"both\", expand=True)\n",
    "    scrollbar.pack(side=\"right\", fill=\"y\")"
   ]
  },
  {
   "cell_type": "code",
   "execution_count": null,
   "metadata": {},
   "outputs": [],
   "source": [
    "root = Tk()\n",
    "root.geometry(\"800x600\")\n",
    "root.title(\"Image Segmentation for detecting infected tissue\")\n",
    "v = IntVar()\n",
    "\n",
    "f1 = Frame(root, width=100, height =100)\n",
    "f1.grid(row=0)\n",
    "\n",
    "f2 = Frame(root, width=100, height =50)\n",
    "\n",
    "f3 = Frame(root)\n",
    "#f3.pack(side = TOP)\n",
    "\n",
    "f4 = Frame(root)\n",
    "f4.grid(row=5)\n",
    "\n",
    "f5 = Frame(root)\n",
    "\n",
    "Label(f1).grid(row=0)\n",
    "logo_image = ImageTk.PhotoImage(Image.open(r\"sastra_logo.jpeg\").resize((220, 40), Image.ANTIALIAS))\n",
    "logo = Label(f1, image = logo_image,bd=1,padx=2,pady=2,bg='red',borderwidth=3, relief=\"flat\", highlightcolor=\"white\",anchor='w')\n",
    "logo.grid(row=1,column=0)\n",
    "title = Label(f1,text=\"Image Segmentation\",width=20,fg='white',bg='purple',font=('arial',24,'bold'),borderwidth=3, relief=\"ridge\").grid(row = 1, column = 1, pady = 2)\n",
    "Label(f1).grid(row=2,pady=0.5)\n",
    "label = Label(f1,text=\"\"\"Choose an input option:\"\"\",width=20,justify = LEFT,fg='black',bg='white',font=('arial',12,'bold'), relief=\"ridge\",anchor='w')\n",
    "label.grid(row = 3, column = 0, pady = 2)\n",
    "rb1 = Radiobutton(f1,text=\"Group of images\",variable=v,value=1,command=sel,background = \"light blue\",relief='groove')\n",
    "rb1.grid(row = 3, column = 1)\n",
    "rb2 = Radiobutton(f1,text=\"A single image\",variable=v,value=2,command=sel,background = \"light blue\",relief='groove')\n",
    "rb2.grid(row = 3, column = 2,sticky='w')\n",
    "\n",
    "b1 = Button(f2,bg='white',width=22,relief=RIDGE,font=('arial',12,'italic')) \n",
    "l1 = Label(f2,fg='black',bg='white',font=('arial',12,'bold'))\n",
    "b2 = Button(f2,text='DETECT',bg='yellow',width=22,relief=RIDGE,font=('arial',12,'italic'))  \n",
    "l2 = Label(f3,text=\"Input Image\",width=20,justify = LEFT,fg='black',bg='white',font=('arial',12,'bold'), relief=\"ridge\")\n",
    "l4 = Label(f3,text=\"Predicted Image\",width=15,justify = LEFT,fg='black',bg='white',font=('arial',12,'bold'), relief=\"ridge\")\n",
    "lpic = Label(f3,bg='red')\n",
    "l5 = Label(f3,bg='red')\n",
    "l6 = Label(f3,fg='black',bg='white',font=('arial',12,'bold'), relief=\"ridge\",pady=25)\n",
    "Label(f4).pack(side=\"top\")\n",
    "Button(f4,text='EXIT',bg='red',width=22,relief=RIDGE,font=('arial',12,'italic'),command=close).pack(side=\"top\")\n",
    "root.mainloop()"
   ]
  },
  {
   "cell_type": "code",
   "execution_count": null,
   "metadata": {},
   "outputs": [],
   "source": []
  }
 ],
 "metadata": {
  "kernelspec": {
   "display_name": "Python 3",
   "language": "python",
   "name": "python3"
  },
  "language_info": {
   "codemirror_mode": {
    "name": "ipython",
    "version": 3
   },
   "file_extension": ".py",
   "mimetype": "text/x-python",
   "name": "python",
   "nbconvert_exporter": "python",
   "pygments_lexer": "ipython3",
   "version": "3.7.6"
  }
 },
 "nbformat": 4,
 "nbformat_minor": 4
}
