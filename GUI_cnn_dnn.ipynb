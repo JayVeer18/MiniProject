{
 "cells": [
  {
   "cell_type": "code",
   "execution_count": 1,
   "metadata": {},
   "outputs": [
    {
     "name": "stderr",
     "output_type": "stream",
     "text": [
      "Using TensorFlow backend.\n"
     ]
    },
    {
     "name": "stdout",
     "output_type": "stream",
     "text": [
      "2.3.1\n"
     ]
    }
   ],
   "source": [
    "import warnings\n",
    "warnings.filterwarnings(\"ignore\")\n",
    "from tkinter import *\n",
    "import tkinter.ttk as ttk\n",
    "from PIL import Image,ImageTk\n",
    "import os\n",
    "import glob\n",
    "from tkinter import filedialog\n",
    "import pandas as pd\n",
    "import numpy as np\n",
    "import keras\n",
    "import cv2\n",
    "import csv\n",
    "import pickle\n",
    "import tensorflow as tf\n",
    "from tkinter.filedialog import asksaveasfile\n",
    "from keras.preprocessing.image import img_to_array,load_img\n",
    "from tensorflow.python.keras.models import load_model\n",
    "from keras.preprocessing.image import ImageDataGenerator, img_to_array, load_img \n",
    "\n",
    "print(tf.__version__)"
   ]
  },
  {
   "cell_type": "code",
   "execution_count": 2,
   "metadata": {},
   "outputs": [],
   "source": [
    "cnn = tf.keras.models.load_model(r'Covid_result_Pretrained.h5')\n",
    "dnn = tf.keras.models.load_model(r\"Covid_result_DNN.h5\")"
   ]
  },
  {
   "cell_type": "code",
   "execution_count": 3,
   "metadata": {},
   "outputs": [],
   "source": [
    "a_file = open(\"FeatureReduction.pkl\", \"rb\")\n",
    "FeatureTransform = pickle.load(a_file)"
   ]
  },
  {
   "cell_type": "code",
   "execution_count": 4,
   "metadata": {},
   "outputs": [],
   "source": [
    "path=''\n",
    "files=[]"
   ]
  },
  {
   "cell_type": "code",
   "execution_count": 5,
   "metadata": {},
   "outputs": [],
   "source": [
    "def csv():\n",
    "    global path,files,df\n",
    "    testCNN = []\n",
    "    testDNN = []\n",
    "    for f1 in files:\n",
    "        res=test_image(path+\"/\"+f1)\n",
    "        testCNN.append(res[0])\n",
    "        testDNN.append(res[1])\n",
    "    dic = {'IMAGE NAME':files, '--DNN_CLASSIFIER--':testDNN,'--CNN_CLASSIFIER--':testCNN,}\n",
    "    df = pd.DataFrame(dic) \n",
    "    display(df)\n"
   ]
  },
  {
   "cell_type": "code",
   "execution_count": 6,
   "metadata": {},
   "outputs": [],
   "source": [
    "def res():\n",
    "    global path,cnn,dnn,l5,l6\n",
    "    imlabel = (path.split('/')[3]).split('_')[1]\n",
    "    res = test_image(path) \n",
    "    l5.config(text = \"Predicted Label : \\n\\t\"+res[1]+\"\\n\\nActual Label : \\n\\t\"+imlabel)\n",
    "    l5.grid(row = 2,column = 1, pady = 2)\n",
    "    l6.config(text = \"Predicted Label : \\n\\t\"+res[0]+\"\\n\\nActual Label : \\n\\t\"+imlabel)\n",
    "    l6.grid(row = 2,column = 2, pady = 2)\n",
    "    "
   ]
  },
  {
   "cell_type": "code",
   "execution_count": 7,
   "metadata": {},
   "outputs": [],
   "source": [
    "class_dictionary = {'COVID': 0, 'NonCOVID': 1}\n",
    "inv_map = { v: k for k, v in class_dictionary.items() }\n",
    "def test_image(path):\n",
    "    global inv_map,image\n",
    "    image = read_image(path)\n",
    "    img=path.split(\"/\")[-1]\n",
    "    features=FeatureTransform[img].reshape(1,-1)\n",
    "    cnn_pred = cnn.predict(image)\n",
    "    dnn_pred = dnn.predict(features)\n",
    "    cnn_pred_label = np.argmax(cnn_pred, axis=1)\n",
    "    dnn_pred_label = round(dnn_pred[0][0])\n",
    "    txt_cnn = inv_map[cnn_pred_label[0]]\n",
    "    txt_dnn = inv_map[dnn_pred_label]\n",
    "    #print(txt_cnn,txt_dnn)\n",
    "    return [txt_cnn,txt_dnn]"
   ]
  },
  {
   "cell_type": "code",
   "execution_count": 8,
   "metadata": {},
   "outputs": [],
   "source": [
    "def sel():\n",
    "    global b1,l1,b2,l2,l3,l4,l5,l6,TableMargin,rb1,rb2\n",
    "    b1.grid(row = 0, column = 0,pady = 2)\n",
    "    if v.get() == 1:\n",
    "        rb1.config(bg='magenta')\n",
    "        rb2.config(bg = \"light blue\")\n",
    "        b1.config(text=\"Browse your folder\",command=getDirectory)\n",
    "        forgetlabels(l1,b2,l2,l3,l4,l5,l6,TableMargin)\n",
    "    else:\n",
    "        rb1.config(bg = \"light blue\")\n",
    "        rb2.config(bg='magenta')\n",
    "        TableMargin.pack_forget()\n",
    "        b1.config(text=\"Browse your image\",command=getImage)\n",
    "        forgetlabels(l1,b2,l2,l3,l4,l5,l6,TableMargin)\n",
    "def forgetlabels(l1,b2,l2,l3,l4,l5,l6,TableMargin):\n",
    "    l1.grid_remove()\n",
    "    b2.grid_remove()\n",
    "    l2.grid_remove()\n",
    "    l3.grid_remove()\n",
    "    l4.grid_remove()\n",
    "    lpic.grid_remove()\n",
    "    l6.grid_remove()\n",
    "    l5.grid_remove()\n",
    "    f3.pack_forget()\n",
    "    TableMargin.pack_forget()\n",
    "def close():\n",
    "    root.destroy()\n",
    "def read_image(file_path):\n",
    "    image = load_img(file_path, target_size=(224,224)) \n",
    "    image = img_to_array(image) \n",
    "    image = np.expand_dims(image, axis=0)\n",
    "    image /= 255. \n",
    "    return image\n",
    "def getImage():\n",
    "    global l1,l2,l3,l4,b2,lpic,path,f3\n",
    "    f3.pack(side = TOP)\n",
    "    path = filedialog.askopenfilename(title='Select an Image')\n",
    "    l1.config(text=\"PATH : \"+path)\n",
    "    image = Image.open(path).resize((200,200),Image.ANTIALIAS)\n",
    "    photo = ImageTk.PhotoImage(image)\n",
    "    lpic.config(image=photo)\n",
    "    lpic.image = photo\n",
    "    l1.grid(row = 0, column = 1, pady = 2)\n",
    "    b2.config(command=res)\n",
    "    b2.grid(row = 1, column = 1, pady = 2,sticky='w')\n",
    "    l2.grid(row = 1, column = 0, pady = 2)\n",
    "    l3.grid(row = 1, column = 1, pady = 2)\n",
    "    l4.grid(row = 1, column = 2, pady = 2)\n",
    "    lpic.grid(row = 2,column = 0, pady = 2)\n",
    "def getDirectory():\n",
    "    global path,files,l1\n",
    "    path = filedialog.askdirectory()\n",
    "    l1.config(text=\"PATH : \"+path)\n",
    "    l1.grid(row = 0, column = 1, pady = 2)\n",
    "    files = os.listdir(path)\n",
    "    path = path.replace(\"\\\\\",\"/\")\n",
    "    b2.config(command=csv)\n",
    "    b2.grid(row = 1, column = 1, pady = 2,sticky='w')"
   ]
  },
  {
   "cell_type": "code",
   "execution_count": 9,
   "metadata": {},
   "outputs": [],
   "source": [
    "def display(df): \n",
    "    global TableMargin\n",
    "    TableMargin.pack(side=TOP)\n",
    "    scrollbarx = Scrollbar(TableMargin, orient=HORIZONTAL)\n",
    "    scrollbary = Scrollbar(TableMargin, orient=VERTICAL)\n",
    "    tree = ttk.Treeview(TableMargin,style=\"mystyle.Treeview\", columns=(\"Image Name\", \"--DNN_CLASSIFIER--\", \"--CNN_CLASSIFIER--\"), height=400, selectmode=\"extended\", yscrollcommand=scrollbary.set, xscrollcommand=scrollbarx.set)\n",
    "    style = ttk.Style()\n",
    "    style.configure(\"mystyle.Treeview\", highlightthickness=0, bd=0, font=('Calibri', 11)) # Modify the font of the body\n",
    "    style.configure(\"mystyle.Treeview.Heading\", font=('Calibri', 13,'bold')) # Modify the font of the headings\n",
    "    style.layout(\"mystyle.Treeview\", [('mystyle.Treeview.treearea', {'sticky': 'nswe'})]) # Remove the borders\n",
    "    scrollbary.config(command=tree.yview)\n",
    "    scrollbary.pack(side=RIGHT, fill=Y)\n",
    "    scrollbarx.config(command=tree.xview)\n",
    "    scrollbarx.pack(side=BOTTOM, fill=X)\n",
    "    tree.heading('Image Name', text=\"Image Name\", anchor= 'c')\n",
    "    tree.heading('--DNN_CLASSIFIER--', text=\"-DNN_CLASSIFIER-\", anchor= 'c')\n",
    "    tree.heading('--CNN_CLASSIFIER--', text=\"-CNN_CLASSIFIER-\", anchor= 'c')\n",
    "    tree.column('#0', stretch=NO, minwidth=0, width=0, anchor= 'c')\n",
    "    tree.column('#1', stretch=NO, minwidth=0, width=200, anchor= 'c')\n",
    "    tree.column('#2', stretch=NO, minwidth=0, width=200, anchor= 'c')\n",
    "    tree.column('#3', stretch=NO, minwidth=0, width=200, anchor= 'c')\n",
    "    tree.tag_configure(\"evenrow\",background='white',foreground='black')\n",
    "    tree.tag_configure(\"oddrow\",background='black',foreground='white')\n",
    "        \n",
    "    i = 0\n",
    "    for row_index,row in df.iterrows():\n",
    "        filename = row[0]\n",
    "        dnn_label = row[1]\n",
    "        cnn_label = row[2]\n",
    "        tree.insert(\"\", 0, values=(filename, dnn_label, cnn_label))\n",
    "        if(i%2 == 0):\n",
    "            tree.insert(\"\", 0, values=(filename, dnn_label, cnn_label),tags = ('evenrow',))\n",
    "        if(i%2 == 1):\n",
    "            tree.insert(\"\", 0, values=(filename, dnn_label, cnn_label),tags = ('oddrow',))\n",
    "        i+=1\n",
    "    #print(tree.tag_has('evenrow'))\n",
    "    tree.pack()"
   ]
  },
  {
   "cell_type": "code",
   "execution_count": null,
   "metadata": {},
   "outputs": [],
   "source": [
    "root = Tk()\n",
    "root.geometry(\"900x600\")\n",
    "root.title(\"COVID DIAGONISIS\")\n",
    "v = IntVar()\n",
    "\n",
    "f1 = Frame(root, width=100, height =50)\n",
    "f1.pack(side = TOP)\n",
    "\n",
    "f2 = Frame(root, width=100, height =50)\n",
    "f2.pack(side = TOP)\n",
    "\n",
    "f3 = Frame(root)\n",
    "f3.pack(side = TOP)\n",
    "\n",
    "TableMargin = Frame(root, width=500)\n",
    "\n",
    "f4 = Frame(root)\n",
    "f4.pack(side = TOP)\n",
    "\n",
    "Label(f1).grid(row=0)\n",
    "logo_image = ImageTk.PhotoImage(Image.open(r'sastra_logo.jpeg').resize((220, 40), Image.ANTIALIAS))\n",
    "logo = Label(f1, image = logo_image,bd=1,padx=2,pady=2,bg='red',borderwidth=3, relief=\"flat\", highlightcolor=\"white\",anchor='w')\n",
    "logo.grid(row=1,column=0)\n",
    "title = Label(f1,text=\"COVID TESTER\",width=15,fg='white',bg='purple',font=('arial',24,'bold'),borderwidth=3, relief=\"ridge\").grid(row = 1, column = 1, pady = 2)\n",
    "Label(f1).grid(row=2,pady=0.5)\n",
    "label = Label(f1,text=\"\"\"Choose an input option:\"\"\",width=20,justify = LEFT,fg='black',bg='white',font=('arial',12,'bold'), relief=\"ridge\",anchor='w')\n",
    "label.grid(row = 3, column = 0, pady = 2)\n",
    "rb1 = Radiobutton(f1,text=\"Group of images\",variable=v,value=1,command=sel,background = \"light blue\",relief='groove')\n",
    "rb1.grid(row = 3, column = 1)\n",
    "rb2 = Radiobutton(f1,text=\"A single image\",variable=v,value=2,command=sel,background = \"light blue\",relief='groove')\n",
    "rb2.grid(row = 3, column = 2,sticky='w')\n",
    "\n",
    "b1 = Button(f2,bg='white',width=22,relief=RIDGE,font=('arial',12,'italic')) \n",
    "l1 = Label(f2,fg='black',bg='white',font=('arial',12,'bold'))\n",
    "b2 = Button(f2,text='Analyse',bg='yellow',width=22,relief=RIDGE,font=('arial',12,'italic'))  \n",
    "l2 = Label(f3,text=\"IMAGE\",width=20,justify = LEFT,fg='black',bg='white',font=('arial',12,'bold'), relief=\"ridge\")\n",
    "l3 = Label(f3,text=\"DNN\",width=15,justify = LEFT,fg='black',bg='white',font=('arial',12,'bold'), relief=\"ridge\")\n",
    "l4 = Label(f3,text=\"CNN\",width=15,justify = LEFT,fg='black',bg='white',font=('arial',12,'bold'), relief=\"ridge\")\n",
    "lpic = Label(f3,bg='red')\n",
    "l5 = Label(f3,fg='black',bg='white',font=('arial',12,'bold'), relief=\"ridge\",pady=25)\n",
    "l6 = Label(f3,fg='black',bg='white',font=('arial',12,'bold'), relief=\"ridge\",pady=25)\n",
    "\n",
    "Button(f2,text='EXIT',bg='red',width=22,relief=RIDGE,font=('arial',12,'italic'),command=close).grid(row = 1, column = 2, pady = 2,sticky='w')\n",
    "root.mainloop()"
   ]
  },
  {
   "cell_type": "code",
   "execution_count": null,
   "metadata": {},
   "outputs": [],
   "source": []
  }
 ],
 "metadata": {
  "kernelspec": {
   "display_name": "Python 3",
   "language": "python",
   "name": "python3"
  },
  "language_info": {
   "codemirror_mode": {
    "name": "ipython",
    "version": 3
   },
   "file_extension": ".py",
   "mimetype": "text/x-python",
   "name": "python",
   "nbconvert_exporter": "python",
   "pygments_lexer": "ipython3",
   "version": "3.7.6"
  }
 },
 "nbformat": 4,
 "nbformat_minor": 4
}
